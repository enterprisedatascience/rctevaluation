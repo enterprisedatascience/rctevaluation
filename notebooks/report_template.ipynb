(This is a **placeholder**. Open JupyterLab once, add narrative & the plot cell described
in the README, then save. Subsequent `run_pipeline.py` executions will auto‑fill & render.)
